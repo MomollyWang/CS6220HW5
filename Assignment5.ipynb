{
  "nbformat": 4,
  "nbformat_minor": 0,
  "metadata": {
    "colab": {
      "provenance": []
    },
    "kernelspec": {
      "name": "python3",
      "display_name": "Python 3"
    },
    "language_info": {
      "name": "python"
    }
  },
  "cells": [
    {
      "cell_type": "code",
      "execution_count": null,
      "metadata": {
        "id": "L2_Zw0NE9p3c"
      },
      "outputs": [],
      "source": [
        "import pandas as pd\n",
        "import matplotlib.pyplot as plt\n",
        "import numpy as np"
      ]
    },
    {
      "cell_type": "code",
      "source": [
        "import seaborn as sns"
      ],
      "metadata": {
        "id": "XsbmMhJ4Terx"
      },
      "execution_count": null,
      "outputs": []
    },
    {
      "cell_type": "markdown",
      "source": [
        "**Glimpse at raw training data**"
      ],
      "metadata": {
        "id": "Kwe5YGq2agyD"
      }
    },
    {
      "cell_type": "code",
      "source": [
        "data_file = '/content/drive/MyDrive/cs6220_assignment5/titanic.train.csv'\n",
        "train = pd.read_csv(data_file, delimiter = \",\")\n",
        "train.info()\n",
        "train.head(5)"
      ],
      "metadata": {
        "colab": {
          "base_uri": "https://localhost:8080/",
          "height": 677
        },
        "id": "g4455qCt-32D",
        "outputId": "a0c08e58-37e1-4d24-edcf-4ffc4f2ea3fa"
      },
      "execution_count": null,
      "outputs": [
        {
          "output_type": "stream",
          "name": "stdout",
          "text": [
            "<class 'pandas.core.frame.DataFrame'>\n",
            "RangeIndex: 891 entries, 0 to 890\n",
            "Data columns (total 14 columns):\n",
            " #   Column     Non-Null Count  Dtype  \n",
            "---  ------     --------------  -----  \n",
            " 0   pclass     891 non-null    int64  \n",
            " 1   survived   891 non-null    int64  \n",
            " 2   name       891 non-null    object \n",
            " 3   sex        891 non-null    object \n",
            " 4   age        698 non-null    float64\n",
            " 5   sibsp      891 non-null    int64  \n",
            " 6   parch      891 non-null    int64  \n",
            " 7   ticket     891 non-null    object \n",
            " 8   fare       890 non-null    float64\n",
            " 9   cabin      189 non-null    object \n",
            " 10  embarked   890 non-null    object \n",
            " 11  boat       340 non-null    object \n",
            " 12  body       82 non-null     float64\n",
            " 13  home.dest  492 non-null    object \n",
            "dtypes: float64(3), int64(4), object(7)\n",
            "memory usage: 97.6+ KB\n"
          ]
        },
        {
          "output_type": "execute_result",
          "data": {
            "text/plain": [
              "   pclass  survived                                    name     sex   age  \\\n",
              "0       3         1             Sheerlinck, Mr. Jan Baptist    male  29.0   \n",
              "1       2         1              Quick, Miss. Winifred Vera  female   8.0   \n",
              "2       1         1       Pears, Mrs. Thomas (Edith Wearne)  female  22.0   \n",
              "3       1         0            Crosby, Capt. Edward Gifford    male  70.0   \n",
              "4       3         1  Daly, Miss. Margaret Marcella \"Maggie\"  female  30.0   \n",
              "\n",
              "   sibsp  parch     ticket   fare cabin embarked boat   body  \\\n",
              "0      0      0     345779   9.50   NaN        S   11    NaN   \n",
              "1      1      1      26360  26.00   NaN        S   11    NaN   \n",
              "2      1      0     113776  66.60    C2        S    8    NaN   \n",
              "3      1      1  WE/P 5735  71.00   B22        S  NaN  269.0   \n",
              "4      0      0     382650   6.95   NaN        Q   15    NaN   \n",
              "\n",
              "                          home.dest  \n",
              "0                               NaN  \n",
              "1     Plymouth, Devon / Detroit, MI  \n",
              "2                Isleworth, England  \n",
              "3                     Milwaukee, WI  \n",
              "4  Co Athlone, Ireland New York, NY  "
            ],
            "text/html": [
              "\n",
              "  <div id=\"df-777d52d3-18d3-477c-8084-5d21bf3510b8\">\n",
              "    <div class=\"colab-df-container\">\n",
              "      <div>\n",
              "<style scoped>\n",
              "    .dataframe tbody tr th:only-of-type {\n",
              "        vertical-align: middle;\n",
              "    }\n",
              "\n",
              "    .dataframe tbody tr th {\n",
              "        vertical-align: top;\n",
              "    }\n",
              "\n",
              "    .dataframe thead th {\n",
              "        text-align: right;\n",
              "    }\n",
              "</style>\n",
              "<table border=\"1\" class=\"dataframe\">\n",
              "  <thead>\n",
              "    <tr style=\"text-align: right;\">\n",
              "      <th></th>\n",
              "      <th>pclass</th>\n",
              "      <th>survived</th>\n",
              "      <th>name</th>\n",
              "      <th>sex</th>\n",
              "      <th>age</th>\n",
              "      <th>sibsp</th>\n",
              "      <th>parch</th>\n",
              "      <th>ticket</th>\n",
              "      <th>fare</th>\n",
              "      <th>cabin</th>\n",
              "      <th>embarked</th>\n",
              "      <th>boat</th>\n",
              "      <th>body</th>\n",
              "      <th>home.dest</th>\n",
              "    </tr>\n",
              "  </thead>\n",
              "  <tbody>\n",
              "    <tr>\n",
              "      <th>0</th>\n",
              "      <td>3</td>\n",
              "      <td>1</td>\n",
              "      <td>Sheerlinck, Mr. Jan Baptist</td>\n",
              "      <td>male</td>\n",
              "      <td>29.0</td>\n",
              "      <td>0</td>\n",
              "      <td>0</td>\n",
              "      <td>345779</td>\n",
              "      <td>9.50</td>\n",
              "      <td>NaN</td>\n",
              "      <td>S</td>\n",
              "      <td>11</td>\n",
              "      <td>NaN</td>\n",
              "      <td>NaN</td>\n",
              "    </tr>\n",
              "    <tr>\n",
              "      <th>1</th>\n",
              "      <td>2</td>\n",
              "      <td>1</td>\n",
              "      <td>Quick, Miss. Winifred Vera</td>\n",
              "      <td>female</td>\n",
              "      <td>8.0</td>\n",
              "      <td>1</td>\n",
              "      <td>1</td>\n",
              "      <td>26360</td>\n",
              "      <td>26.00</td>\n",
              "      <td>NaN</td>\n",
              "      <td>S</td>\n",
              "      <td>11</td>\n",
              "      <td>NaN</td>\n",
              "      <td>Plymouth, Devon / Detroit, MI</td>\n",
              "    </tr>\n",
              "    <tr>\n",
              "      <th>2</th>\n",
              "      <td>1</td>\n",
              "      <td>1</td>\n",
              "      <td>Pears, Mrs. Thomas (Edith Wearne)</td>\n",
              "      <td>female</td>\n",
              "      <td>22.0</td>\n",
              "      <td>1</td>\n",
              "      <td>0</td>\n",
              "      <td>113776</td>\n",
              "      <td>66.60</td>\n",
              "      <td>C2</td>\n",
              "      <td>S</td>\n",
              "      <td>8</td>\n",
              "      <td>NaN</td>\n",
              "      <td>Isleworth, England</td>\n",
              "    </tr>\n",
              "    <tr>\n",
              "      <th>3</th>\n",
              "      <td>1</td>\n",
              "      <td>0</td>\n",
              "      <td>Crosby, Capt. Edward Gifford</td>\n",
              "      <td>male</td>\n",
              "      <td>70.0</td>\n",
              "      <td>1</td>\n",
              "      <td>1</td>\n",
              "      <td>WE/P 5735</td>\n",
              "      <td>71.00</td>\n",
              "      <td>B22</td>\n",
              "      <td>S</td>\n",
              "      <td>NaN</td>\n",
              "      <td>269.0</td>\n",
              "      <td>Milwaukee, WI</td>\n",
              "    </tr>\n",
              "    <tr>\n",
              "      <th>4</th>\n",
              "      <td>3</td>\n",
              "      <td>1</td>\n",
              "      <td>Daly, Miss. Margaret Marcella \"Maggie\"</td>\n",
              "      <td>female</td>\n",
              "      <td>30.0</td>\n",
              "      <td>0</td>\n",
              "      <td>0</td>\n",
              "      <td>382650</td>\n",
              "      <td>6.95</td>\n",
              "      <td>NaN</td>\n",
              "      <td>Q</td>\n",
              "      <td>15</td>\n",
              "      <td>NaN</td>\n",
              "      <td>Co Athlone, Ireland New York, NY</td>\n",
              "    </tr>\n",
              "  </tbody>\n",
              "</table>\n",
              "</div>\n",
              "      <button class=\"colab-df-convert\" onclick=\"convertToInteractive('df-777d52d3-18d3-477c-8084-5d21bf3510b8')\"\n",
              "              title=\"Convert this dataframe to an interactive table.\"\n",
              "              style=\"display:none;\">\n",
              "        \n",
              "  <svg xmlns=\"http://www.w3.org/2000/svg\" height=\"24px\"viewBox=\"0 0 24 24\"\n",
              "       width=\"24px\">\n",
              "    <path d=\"M0 0h24v24H0V0z\" fill=\"none\"/>\n",
              "    <path d=\"M18.56 5.44l.94 2.06.94-2.06 2.06-.94-2.06-.94-.94-2.06-.94 2.06-2.06.94zm-11 1L8.5 8.5l.94-2.06 2.06-.94-2.06-.94L8.5 2.5l-.94 2.06-2.06.94zm10 10l.94 2.06.94-2.06 2.06-.94-2.06-.94-.94-2.06-.94 2.06-2.06.94z\"/><path d=\"M17.41 7.96l-1.37-1.37c-.4-.4-.92-.59-1.43-.59-.52 0-1.04.2-1.43.59L10.3 9.45l-7.72 7.72c-.78.78-.78 2.05 0 2.83L4 21.41c.39.39.9.59 1.41.59.51 0 1.02-.2 1.41-.59l7.78-7.78 2.81-2.81c.8-.78.8-2.07 0-2.86zM5.41 20L4 18.59l7.72-7.72 1.47 1.35L5.41 20z\"/>\n",
              "  </svg>\n",
              "      </button>\n",
              "      \n",
              "  <style>\n",
              "    .colab-df-container {\n",
              "      display:flex;\n",
              "      flex-wrap:wrap;\n",
              "      gap: 12px;\n",
              "    }\n",
              "\n",
              "    .colab-df-convert {\n",
              "      background-color: #E8F0FE;\n",
              "      border: none;\n",
              "      border-radius: 50%;\n",
              "      cursor: pointer;\n",
              "      display: none;\n",
              "      fill: #1967D2;\n",
              "      height: 32px;\n",
              "      padding: 0 0 0 0;\n",
              "      width: 32px;\n",
              "    }\n",
              "\n",
              "    .colab-df-convert:hover {\n",
              "      background-color: #E2EBFA;\n",
              "      box-shadow: 0px 1px 2px rgba(60, 64, 67, 0.3), 0px 1px 3px 1px rgba(60, 64, 67, 0.15);\n",
              "      fill: #174EA6;\n",
              "    }\n",
              "\n",
              "    [theme=dark] .colab-df-convert {\n",
              "      background-color: #3B4455;\n",
              "      fill: #D2E3FC;\n",
              "    }\n",
              "\n",
              "    [theme=dark] .colab-df-convert:hover {\n",
              "      background-color: #434B5C;\n",
              "      box-shadow: 0px 1px 3px 1px rgba(0, 0, 0, 0.15);\n",
              "      filter: drop-shadow(0px 1px 2px rgba(0, 0, 0, 0.3));\n",
              "      fill: #FFFFFF;\n",
              "    }\n",
              "  </style>\n",
              "\n",
              "      <script>\n",
              "        const buttonEl =\n",
              "          document.querySelector('#df-777d52d3-18d3-477c-8084-5d21bf3510b8 button.colab-df-convert');\n",
              "        buttonEl.style.display =\n",
              "          google.colab.kernel.accessAllowed ? 'block' : 'none';\n",
              "\n",
              "        async function convertToInteractive(key) {\n",
              "          const element = document.querySelector('#df-777d52d3-18d3-477c-8084-5d21bf3510b8');\n",
              "          const dataTable =\n",
              "            await google.colab.kernel.invokeFunction('convertToInteractive',\n",
              "                                                     [key], {});\n",
              "          if (!dataTable) return;\n",
              "\n",
              "          const docLinkHtml = 'Like what you see? Visit the ' +\n",
              "            '<a target=\"_blank\" href=https://colab.research.google.com/notebooks/data_table.ipynb>data table notebook</a>'\n",
              "            + ' to learn more about interactive tables.';\n",
              "          element.innerHTML = '';\n",
              "          dataTable['output_type'] = 'display_data';\n",
              "          await google.colab.output.renderOutput(dataTable, element);\n",
              "          const docLink = document.createElement('div');\n",
              "          docLink.innerHTML = docLinkHtml;\n",
              "          element.appendChild(docLink);\n",
              "        }\n",
              "      </script>\n",
              "    </div>\n",
              "  </div>\n",
              "  "
            ]
          },
          "metadata": {},
          "execution_count": 3
        }
      ]
    },
    {
      "cell_type": "code",
      "source": [
        "# check out missing data\n",
        "train_if_missing = train.isnull()\n",
        "sns.heatmap(train_if_missing, yticklabels = False, cbar = False)"
      ],
      "metadata": {
        "colab": {
          "base_uri": "https://localhost:8080/",
          "height": 326
        },
        "id": "UakbEL12TNbv",
        "outputId": "98834197-38ad-44ed-99cb-77dfaeadb142"
      },
      "execution_count": null,
      "outputs": [
        {
          "output_type": "execute_result",
          "data": {
            "text/plain": [
              "<Axes: >"
            ]
          },
          "metadata": {},
          "execution_count": 4
        },
        {
          "output_type": "display_data",
          "data": {
            "text/plain": [
              "<Figure size 432x288 with 1 Axes>"
            ],
            "image/png": "[encoded data removed]"
          },
          "metadata": {
            "needs_background": "light"
          }
        }
      ]
    },
    {
      "cell_type": "markdown",
      "source": [
        "**Data processing before model training**"
      ],
      "metadata": {
        "id": "vCo6nyf9aod6"
      }
    },
    {
      "cell_type": "code",
      "source": [
        "# handle missing data in age \n",
        "# replace NA with average age\n",
        "age_avg = train['age'].mean()\n",
        "\n",
        "def age_tran(age):\n",
        "  if pd.isnull(age):\n",
        "    return age_avg\n",
        "  else:\n",
        "    return age\n",
        "\n",
        "\n",
        "train['age'] = train['age'].apply(age_tran)\n",
        "\n",
        "train.info()"
      ],
      "metadata": {
        "colab": {
          "base_uri": "https://localhost:8080/"
        },
        "id": "g3kGsXRDcPaQ",
        "outputId": "0f5ef254-07fc-42a6-ceb9-47bf64c6121b"
      },
      "execution_count": null,
      "outputs": [
        {
          "output_type": "stream",
          "name": "stdout",
          "text": [
            "<class 'pandas.core.frame.DataFrame'>\n",
            "RangeIndex: 891 entries, 0 to 890\n",
            "Data columns (total 14 columns):\n",
            " #   Column     Non-Null Count  Dtype  \n",
            "---  ------     --------------  -----  \n",
            " 0   pclass     891 non-null    int64  \n",
            " 1   survived   891 non-null    int64  \n",
            " 2   name       891 non-null    object \n",
            " 3   sex        891 non-null    object \n",
            " 4   age        891 non-null    float64\n",
            " 5   sibsp      891 non-null    int64  \n",
            " 6   parch      891 non-null    int64  \n",
            " 7   ticket     891 non-null    object \n",
            " 8   fare       890 non-null    float64\n",
            " 9   cabin      189 non-null    object \n",
            " 10  embarked   890 non-null    object \n",
            " 11  boat       340 non-null    object \n",
            " 12  body       82 non-null     float64\n",
            " 13  home.dest  492 non-null    object \n",
            "dtypes: float64(3), int64(4), object(7)\n",
            "memory usage: 97.6+ KB\n"
          ]
        }
      ]
    },
    {
      "cell_type": "code",
      "source": [
        "# handle missing data in fare\n",
        "# replace NA with average fare\n",
        "\n",
        "fare_avg = train['fare'].mean()\n",
        "\n",
        "def fare_tran(fare):\n",
        "  if pd.isnull(fare):\n",
        "    return fare_avg\n",
        "  else:\n",
        "    return fare\n",
        "\n",
        "train['fare'] = train['fare'].apply(fare_tran)\n",
        "\n",
        "train.info()"
      ],
      "metadata": {
        "colab": {
          "base_uri": "https://localhost:8080/"
        },
        "id": "0Bj5ymWzk6U4",
        "outputId": "907b0ddb-72d7-4455-9955-43c9e6b8efaa"
      },
      "execution_count": null,
      "outputs": [
        {
          "output_type": "stream",
          "name": "stdout",
          "text": [
            "<class 'pandas.core.frame.DataFrame'>\n",
            "RangeIndex: 891 entries, 0 to 890\n",
            "Data columns (total 14 columns):\n",
            " #   Column     Non-Null Count  Dtype  \n",
            "---  ------     --------------  -----  \n",
            " 0   pclass     891 non-null    int64  \n",
            " 1   survived   891 non-null    int64  \n",
            " 2   name       891 non-null    object \n",
            " 3   sex        891 non-null    object \n",
            " 4   age        891 non-null    float64\n",
            " 5   sibsp      891 non-null    int64  \n",
            " 6   parch      891 non-null    int64  \n",
            " 7   ticket     891 non-null    object \n",
            " 8   fare       891 non-null    float64\n",
            " 9   cabin      189 non-null    object \n",
            " 10  embarked   890 non-null    object \n",
            " 11  boat       340 non-null    object \n",
            " 12  body       82 non-null     float64\n",
            " 13  home.dest  492 non-null    object \n",
            "dtypes: float64(3), int64(4), object(7)\n",
            "memory usage: 97.6+ KB\n"
          ]
        }
      ]
    },
    {
      "cell_type": "code",
      "source": [
        "# get dummies for sex and embark\n",
        "\n",
        "sex = pd.get_dummies(train['sex'], drop_first=True)\n",
        "embarked = pd.get_dummies(train['embarked'], drop_first=True)"
      ],
      "metadata": {
        "id": "fcaIK4YyglVD"
      },
      "execution_count": null,
      "outputs": []
    },
    {
      "cell_type": "code",
      "source": [
        "# drop unneccessary columns\n",
        "# concat train with sex and embarked dummies to make data trainable\n",
        "drop_col = ['sex','embarked', 'name', 'cabin', 'body', 'boat', 'home.dest', 'ticket']\n",
        "train = pd.concat([train, sex, embarked], axis = 1)\n",
        "train.drop(drop_col,axis = 1, inplace = True)\n",
        "\n",
        "train.info()\n",
        "train.head(5)\n"
      ],
      "metadata": {
        "colab": {
          "base_uri": "https://localhost:8080/",
          "height": 492
        },
        "id": "6vdTG4BRVH2f",
        "outputId": "4db95fa6-0cd4-4d57-9ee5-aba4b17c09ca"
      },
      "execution_count": null,
      "outputs": [
        {
          "output_type": "stream",
          "name": "stdout",
          "text": [
            "<class 'pandas.core.frame.DataFrame'>\n",
            "RangeIndex: 891 entries, 0 to 890\n",
            "Data columns (total 9 columns):\n",
            " #   Column    Non-Null Count  Dtype  \n",
            "---  ------    --------------  -----  \n",
            " 0   pclass    891 non-null    int64  \n",
            " 1   survived  891 non-null    int64  \n",
            " 2   age       891 non-null    float64\n",
            " 3   sibsp     891 non-null    int64  \n",
            " 4   parch     891 non-null    int64  \n",
            " 5   fare      891 non-null    float64\n",
            " 6   male      891 non-null    uint8  \n",
            " 7   Q         891 non-null    uint8  \n",
            " 8   S         891 non-null    uint8  \n",
            "dtypes: float64(2), int64(4), uint8(3)\n",
            "memory usage: 44.5 KB\n"
          ]
        },
        {
          "output_type": "execute_result",
          "data": {
            "text/plain": [
              "   pclass  survived   age  sibsp  parch   fare  male  Q  S\n",
              "0       3         1  29.0      0      0   9.50     1  0  1\n",
              "1       2         1   8.0      1      1  26.00     0  0  1\n",
              "2       1         1  22.0      1      0  66.60     0  0  1\n",
              "3       1         0  70.0      1      1  71.00     1  0  1\n",
              "4       3         1  30.0      0      0   6.95     0  1  0"
            ],
            "text/html": [
              "\n",
              "  <div id=\"df-7b9fa9d3-f868-4a20-a996-15d36b08a141\">\n",
              "    <div class=\"colab-df-container\">\n",
              "      <div>\n",
              "<style scoped>\n",
              "    .dataframe tbody tr th:only-of-type {\n",
              "        vertical-align: middle;\n",
              "    }\n",
              "\n",
              "    .dataframe tbody tr th {\n",
              "        vertical-align: top;\n",
              "    }\n",
              "\n",
              "    .dataframe thead th {\n",
              "        text-align: right;\n",
              "    }\n",
              "</style>\n",
              "<table border=\"1\" class=\"dataframe\">\n",
              "  <thead>\n",
              "    <tr style=\"text-align: right;\">\n",
              "      <th></th>\n",
              "      <th>pclass</th>\n",
              "      <th>survived</th>\n",
              "      <th>age</th>\n",
              "      <th>sibsp</th>\n",
              "      <th>parch</th>\n",
              "      <th>fare</th>\n",
              "      <th>male</th>\n",
              "      <th>Q</th>\n",
              "      <th>S</th>\n",
              "    </tr>\n",
              "  </thead>\n",
              "  <tbody>\n",
              "    <tr>\n",
              "      <th>0</th>\n",
              "      <td>3</td>\n",
              "      <td>1</td>\n",
              "      <td>29.0</td>\n",
              "      <td>0</td>\n",
              "      <td>0</td>\n",
              "      <td>9.50</td>\n",
              "      <td>1</td>\n",
              "      <td>0</td>\n",
              "      <td>1</td>\n",
              "    </tr>\n",
              "    <tr>\n",
              "      <th>1</th>\n",
              "      <td>2</td>\n",
              "      <td>1</td>\n",
              "      <td>8.0</td>\n",
              "      <td>1</td>\n",
              "      <td>1</td>\n",
              "      <td>26.00</td>\n",
              "      <td>0</td>\n",
              "      <td>0</td>\n",
              "      <td>1</td>\n",
              "    </tr>\n",
              "    <tr>\n",
              "      <th>2</th>\n",
              "      <td>1</td>\n",
              "      <td>1</td>\n",
              "      <td>22.0</td>\n",
              "      <td>1</td>\n",
              "      <td>0</td>\n",
              "      <td>66.60</td>\n",
              "      <td>0</td>\n",
              "      <td>0</td>\n",
              "      <td>1</td>\n",
              "    </tr>\n",
              "    <tr>\n",
              "      <th>3</th>\n",
              "      <td>1</td>\n",
              "      <td>0</td>\n",
              "      <td>70.0</td>\n",
              "      <td>1</td>\n",
              "      <td>1</td>\n",
              "      <td>71.00</td>\n",
              "      <td>1</td>\n",
              "      <td>0</td>\n",
              "      <td>1</td>\n",
              "    </tr>\n",
              "    <tr>\n",
              "      <th>4</th>\n",
              "      <td>3</td>\n",
              "      <td>1</td>\n",
              "      <td>30.0</td>\n",
              "      <td>0</td>\n",
              "      <td>0</td>\n",
              "      <td>6.95</td>\n",
              "      <td>0</td>\n",
              "      <td>1</td>\n",
              "      <td>0</td>\n",
              "    </tr>\n",
              "  </tbody>\n",
              "</table>\n",
              "</div>\n",
              "      <button class=\"colab-df-convert\" onclick=\"convertToInteractive('df-7b9fa9d3-f868-4a20-a996-15d36b08a141')\"\n",
              "              title=\"Convert this dataframe to an interactive table.\"\n",
              "              style=\"display:none;\">\n",
              "        \n",
              "  <svg xmlns=\"http://www.w3.org/2000/svg\" height=\"24px\"viewBox=\"0 0 24 24\"\n",
              "       width=\"24px\">\n",
              "    <path d=\"M0 0h24v24H0V0z\" fill=\"none\"/>\n",
              "    <path d=\"M18.56 5.44l.94 2.06.94-2.06 2.06-.94-2.06-.94-.94-2.06-.94 2.06-2.06.94zm-11 1L8.5 8.5l.94-2.06 2.06-.94-2.06-.94L8.5 2.5l-.94 2.06-2.06.94zm10 10l.94 2.06.94-2.06 2.06-.94-2.06-.94-.94-2.06-.94 2.06-2.06.94z\"/><path d=\"M17.41 7.96l-1.37-1.37c-.4-.4-.92-.59-1.43-.59-.52 0-1.04.2-1.43.59L10.3 9.45l-7.72 7.72c-.78.78-.78 2.05 0 2.83L4 21.41c.39.39.9.59 1.41.59.51 0 1.02-.2 1.41-.59l7.78-7.78 2.81-2.81c.8-.78.8-2.07 0-2.86zM5.41 20L4 18.59l7.72-7.72 1.47 1.35L5.41 20z\"/>\n",
              "  </svg>\n",
              "      </button>\n",
              "      \n",
              "  <style>\n",
              "    .colab-df-container {\n",
              "      display:flex;\n",
              "      flex-wrap:wrap;\n",
              "      gap: 12px;\n",
              "    }\n",
              "\n",
              "    .colab-df-convert {\n",
              "      background-color: #E8F0FE;\n",
              "      border: none;\n",
              "      border-radius: 50%;\n",
              "      cursor: pointer;\n",
              "      display: none;\n",
              "      fill: #1967D2;\n",
              "      height: 32px;\n",
              "      padding: 0 0 0 0;\n",
              "      width: 32px;\n",
              "    }\n",
              "\n",
              "    .colab-df-convert:hover {\n",
              "      background-color: #E2EBFA;\n",
              "      box-shadow: 0px 1px 2px rgba(60, 64, 67, 0.3), 0px 1px 3px 1px rgba(60, 64, 67, 0.15);\n",
              "      fill: #174EA6;\n",
              "    }\n",
              "\n",
              "    [theme=dark] .colab-df-convert {\n",
              "      background-color: #3B4455;\n",
              "      fill: #D2E3FC;\n",
              "    }\n",
              "\n",
              "    [theme=dark] .colab-df-convert:hover {\n",
              "      background-color: #434B5C;\n",
              "      box-shadow: 0px 1px 3px 1px rgba(0, 0, 0, 0.15);\n",
              "      filter: drop-shadow(0px 1px 2px rgba(0, 0, 0, 0.3));\n",
              "      fill: #FFFFFF;\n",
              "    }\n",
              "  </style>\n",
              "\n",
              "      <script>\n",
              "        const buttonEl =\n",
              "          document.querySelector('#df-7b9fa9d3-f868-4a20-a996-15d36b08a141 button.colab-df-convert');\n",
              "        buttonEl.style.display =\n",
              "          google.colab.kernel.accessAllowed ? 'block' : 'none';\n",
              "\n",
              "        async function convertToInteractive(key) {\n",
              "          const element = document.querySelector('#df-7b9fa9d3-f868-4a20-a996-15d36b08a141');\n",
              "          const dataTable =\n",
              "            await google.colab.kernel.invokeFunction('convertToInteractive',\n",
              "                                                     [key], {});\n",
              "          if (!dataTable) return;\n",
              "\n",
              "          const docLinkHtml = 'Like what you see? Visit the ' +\n",
              "            '<a target=\"_blank\" href=https://colab.research.google.com/notebooks/data_table.ipynb>data table notebook</a>'\n",
              "            + ' to learn more about interactive tables.';\n",
              "          element.innerHTML = '';\n",
              "          dataTable['output_type'] = 'display_data';\n",
              "          await google.colab.output.renderOutput(dataTable, element);\n",
              "          const docLink = document.createElement('div');\n",
              "          docLink.innerHTML = docLinkHtml;\n",
              "          element.appendChild(docLink);\n",
              "        }\n",
              "      </script>\n",
              "    </div>\n",
              "  </div>\n",
              "  "
            ]
          },
          "metadata": {},
          "execution_count": 8
        }
      ]
    },
    {
      "cell_type": "code",
      "source": [
        "# normalize data\n",
        "from sklearn.preprocessing import MinMaxScaler\n",
        "\n",
        "mmc = MinMaxScaler()\n",
        "train = pd.DataFrame(mmc.fit_transform(train), columns = ['pclass','survived','age','sibsp','parch','fare','male','Q','S'])\n",
        "\n",
        "train.head(5)"
      ],
      "metadata": {
        "colab": {
          "base_uri": "https://localhost:8080/",
          "height": 206
        },
        "id": "G-LoY247Ahgz",
        "outputId": "31a3e898-8fac-4544-8fe3-2ebd26520fd3"
      },
      "execution_count": null,
      "outputs": [
        {
          "output_type": "execute_result",
          "data": {
            "text/plain": [
              "   pclass  survived       age  sibsp     parch      fare  male    Q    S\n",
              "0     1.0       1.0  0.361169  0.000  0.000000  0.018543   1.0  0.0  1.0\n",
              "1     0.5       1.0  0.098121  0.125  0.111111  0.050749   0.0  0.0  1.0\n",
              "2     0.0       1.0  0.273486  0.125  0.000000  0.129995   0.0  0.0  1.0\n",
              "3     0.0       0.0  0.874739  0.125  0.111111  0.138583   1.0  0.0  1.0\n",
              "4     1.0       1.0  0.373695  0.000  0.000000  0.013565   0.0  1.0  0.0"
            ],
            "text/html": [
              "\n",
              "  <div id=\"df-7d38fb12-64f2-42a5-8cc8-282a5c07ad49\">\n",
              "    <div class=\"colab-df-container\">\n",
              "      <div>\n",
              "<style scoped>\n",
              "    .dataframe tbody tr th:only-of-type {\n",
              "        vertical-align: middle;\n",
              "    }\n",
              "\n",
              "    .dataframe tbody tr th {\n",
              "        vertical-align: top;\n",
              "    }\n",
              "\n",
              "    .dataframe thead th {\n",
              "        text-align: right;\n",
              "    }\n",
              "</style>\n",
              "<table border=\"1\" class=\"dataframe\">\n",
              "  <thead>\n",
              "    <tr style=\"text-align: right;\">\n",
              "      <th></th>\n",
              "      <th>pclass</th>\n",
              "      <th>survived</th>\n",
              "      <th>age</th>\n",
              "      <th>sibsp</th>\n",
              "      <th>parch</th>\n",
              "      <th>fare</th>\n",
              "      <th>male</th>\n",
              "      <th>Q</th>\n",
              "      <th>S</th>\n",
              "    </tr>\n",
              "  </thead>\n",
              "  <tbody>\n",
              "    <tr>\n",
              "      <th>0</th>\n",
              "      <td>1.0</td>\n",
              "      <td>1.0</td>\n",
              "      <td>0.361169</td>\n",
              "      <td>0.000</td>\n",
              "      <td>0.000000</td>\n",
              "      <td>0.018543</td>\n",
              "      <td>1.0</td>\n",
              "      <td>0.0</td>\n",
              "      <td>1.0</td>\n",
              "    </tr>\n",
              "    <tr>\n",
              "      <th>1</th>\n",
              "      <td>0.5</td>\n",
              "      <td>1.0</td>\n",
              "      <td>0.098121</td>\n",
              "      <td>0.125</td>\n",
              "      <td>0.111111</td>\n",
              "      <td>0.050749</td>\n",
              "      <td>0.0</td>\n",
              "      <td>0.0</td>\n",
              "      <td>1.0</td>\n",
              "    </tr>\n",
              "    <tr>\n",
              "      <th>2</th>\n",
              "      <td>0.0</td>\n",
              "      <td>1.0</td>\n",
              "      <td>0.273486</td>\n",
              "      <td>0.125</td>\n",
              "      <td>0.000000</td>\n",
              "      <td>0.129995</td>\n",
              "      <td>0.0</td>\n",
              "      <td>0.0</td>\n",
              "      <td>1.0</td>\n",
              "    </tr>\n",
              "    <tr>\n",
              "      <th>3</th>\n",
              "      <td>0.0</td>\n",
              "      <td>0.0</td>\n",
              "      <td>0.874739</td>\n",
              "      <td>0.125</td>\n",
              "      <td>0.111111</td>\n",
              "      <td>0.138583</td>\n",
              "      <td>1.0</td>\n",
              "      <td>0.0</td>\n",
              "      <td>1.0</td>\n",
              "    </tr>\n",
              "    <tr>\n",
              "      <th>4</th>\n",
              "      <td>1.0</td>\n",
              "      <td>1.0</td>\n",
              "      <td>0.373695</td>\n",
              "      <td>0.000</td>\n",
              "      <td>0.000000</td>\n",
              "      <td>0.013565</td>\n",
              "      <td>0.0</td>\n",
              "      <td>1.0</td>\n",
              "      <td>0.0</td>\n",
              "    </tr>\n",
              "  </tbody>\n",
              "</table>\n",
              "</div>\n",
              "      <button class=\"colab-df-convert\" onclick=\"convertToInteractive('df-7d38fb12-64f2-42a5-8cc8-282a5c07ad49')\"\n",
              "              title=\"Convert this dataframe to an interactive table.\"\n",
              "              style=\"display:none;\">\n",
              "        \n",
              "  <svg xmlns=\"http://www.w3.org/2000/svg\" height=\"24px\"viewBox=\"0 0 24 24\"\n",
              "       width=\"24px\">\n",
              "    <path d=\"M0 0h24v24H0V0z\" fill=\"none\"/>\n",
              "    <path d=\"M18.56 5.44l.94 2.06.94-2.06 2.06-.94-2.06-.94-.94-2.06-.94 2.06-2.06.94zm-11 1L8.5 8.5l.94-2.06 2.06-.94-2.06-.94L8.5 2.5l-.94 2.06-2.06.94zm10 10l.94 2.06.94-2.06 2.06-.94-2.06-.94-.94-2.06-.94 2.06-2.06.94z\"/><path d=\"M17.41 7.96l-1.37-1.37c-.4-.4-.92-.59-1.43-.59-.52 0-1.04.2-1.43.59L10.3 9.45l-7.72 7.72c-.78.78-.78 2.05 0 2.83L4 21.41c.39.39.9.59 1.41.59.51 0 1.02-.2 1.41-.59l7.78-7.78 2.81-2.81c.8-.78.8-2.07 0-2.86zM5.41 20L4 18.59l7.72-7.72 1.47 1.35L5.41 20z\"/>\n",
              "  </svg>\n",
              "      </button>\n",
              "      \n",
              "  <style>\n",
              "    .colab-df-container {\n",
              "      display:flex;\n",
              "      flex-wrap:wrap;\n",
              "      gap: 12px;\n",
              "    }\n",
              "\n",
              "    .colab-df-convert {\n",
              "      background-color: #E8F0FE;\n",
              "      border: none;\n",
              "      border-radius: 50%;\n",
              "      cursor: pointer;\n",
              "      display: none;\n",
              "      fill: #1967D2;\n",
              "      height: 32px;\n",
              "      padding: 0 0 0 0;\n",
              "      width: 32px;\n",
              "    }\n",
              "\n",
              "    .colab-df-convert:hover {\n",
              "      background-color: #E2EBFA;\n",
              "      box-shadow: 0px 1px 2px rgba(60, 64, 67, 0.3), 0px 1px 3px 1px rgba(60, 64, 67, 0.15);\n",
              "      fill: #174EA6;\n",
              "    }\n",
              "\n",
              "    [theme=dark] .colab-df-convert {\n",
              "      background-color: #3B4455;\n",
              "      fill: #D2E3FC;\n",
              "    }\n",
              "\n",
              "    [theme=dark] .colab-df-convert:hover {\n",
              "      background-color: #434B5C;\n",
              "      box-shadow: 0px 1px 3px 1px rgba(0, 0, 0, 0.15);\n",
              "      filter: drop-shadow(0px 1px 2px rgba(0, 0, 0, 0.3));\n",
              "      fill: #FFFFFF;\n",
              "    }\n",
              "  </style>\n",
              "\n",
              "      <script>\n",
              "        const buttonEl =\n",
              "          document.querySelector('#df-7d38fb12-64f2-42a5-8cc8-282a5c07ad49 button.colab-df-convert');\n",
              "        buttonEl.style.display =\n",
              "          google.colab.kernel.accessAllowed ? 'block' : 'none';\n",
              "\n",
              "        async function convertToInteractive(key) {\n",
              "          const element = document.querySelector('#df-7d38fb12-64f2-42a5-8cc8-282a5c07ad49');\n",
              "          const dataTable =\n",
              "            await google.colab.kernel.invokeFunction('convertToInteractive',\n",
              "                                                     [key], {});\n",
              "          if (!dataTable) return;\n",
              "\n",
              "          const docLinkHtml = 'Like what you see? Visit the ' +\n",
              "            '<a target=\"_blank\" href=https://colab.research.google.com/notebooks/data_table.ipynb>data table notebook</a>'\n",
              "            + ' to learn more about interactive tables.';\n",
              "          element.innerHTML = '';\n",
              "          dataTable['output_type'] = 'display_data';\n",
              "          await google.colab.output.renderOutput(dataTable, element);\n",
              "          const docLink = document.createElement('div');\n",
              "          docLink.innerHTML = docLinkHtml;\n",
              "          element.appendChild(docLink);\n",
              "        }\n",
              "      </script>\n",
              "    </div>\n",
              "  </div>\n",
              "  "
            ]
          },
          "metadata": {},
          "execution_count": 9
        }
      ]
    },
    {
      "cell_type": "code",
      "source": [
        "X = train.drop('survived', axis = 1)\n",
        "y = train['survived']"
      ],
      "metadata": {
        "id": "rw165XdnjRmP"
      },
      "execution_count": null,
      "outputs": []
    },
    {
      "cell_type": "code",
      "source": [
        "from sklearn.model_selection import train_test_split"
      ],
      "metadata": {
        "id": "nrbZ6lldWvkw"
      },
      "execution_count": null,
      "outputs": []
    },
    {
      "cell_type": "code",
      "source": [
        "# split data into train and test data\n",
        "X_train, X_test, y_train, y_test = train_test_split(X, y, random_state = 1)"
      ],
      "metadata": {
        "id": "_JstVUl9XLXk"
      },
      "execution_count": null,
      "outputs": []
    },
    {
      "cell_type": "code",
      "source": [
        "from sklearn.linear_model import LogisticRegression"
      ],
      "metadata": {
        "id": "Y7HvWUMIXjAM"
      },
      "execution_count": null,
      "outputs": []
    },
    {
      "cell_type": "code",
      "source": [
        "logistic_model = LogisticRegression()\n",
        "logistic_model.fit(X_train, y_train)"
      ],
      "metadata": {
        "colab": {
          "base_uri": "https://localhost:8080/",
          "height": 75
        },
        "id": "ndrhdgvbXqqL",
        "outputId": "b373b8a2-0c53-47bf-bdca-71e90ac129fd"
      },
      "execution_count": null,
      "outputs": [
        {
          "output_type": "execute_result",
          "data": {
            "text/plain": [
              "LogisticRegression()"
            ],
            "text/html": [
              "<style>#sk-container-id-1 {color: black;background-color: white;}#sk-container-id-1 pre{padding: 0;}#sk-container-id-1 div.sk-toggleable {background-color: white;}#sk-container-id-1 label.sk-toggleable__label {cursor: pointer;display: block;width: 100%;margin-bottom: 0;padding: 0.3em;box-sizing: border-box;text-align: center;}#sk-container-id-1 label.sk-toggleable__label-arrow:before {content: \"▸\";float: left;margin-right: 0.25em;color: #696969;}#sk-container-id-1 label.sk-toggleable__label-arrow:hover:before {color: black;}#sk-container-id-1 div.sk-estimator:hover label.sk-toggleable__label-arrow:before {color: black;}#sk-container-id-1 div.sk-toggleable__content {max-height: 0;max-width: 0;overflow: hidden;text-align: left;background-color: #f0f8ff;}#sk-container-id-1 div.sk-toggleable__content pre {margin: 0.2em;color: black;border-radius: 0.25em;background-color: #f0f8ff;}#sk-container-id-1 input.sk-toggleable__control:checked~div.sk-toggleable__content {max-height: 200px;max-width: 100%;overflow: auto;}#sk-container-id-1 input.sk-toggleable__control:checked~label.sk-toggleable__label-arrow:before {content: \"▾\";}#sk-container-id-1 div.sk-estimator input.sk-toggleable__control:checked~label.sk-toggleable__label {background-color: #d4ebff;}#sk-container-id-1 div.sk-label input.sk-toggleable__control:checked~label.sk-toggleable__label {background-color: #d4ebff;}#sk-container-id-1 input.sk-hidden--visually {border: 0;clip: rect(1px 1px 1px 1px);clip: rect(1px, 1px, 1px, 1px);height: 1px;margin: -1px;overflow: hidden;padding: 0;position: absolute;width: 1px;}#sk-container-id-1 div.sk-estimator {font-family: monospace;background-color: #f0f8ff;border: 1px dotted black;border-radius: 0.25em;box-sizing: border-box;margin-bottom: 0.5em;}#sk-container-id-1 div.sk-estimator:hover {background-color: #d4ebff;}#sk-container-id-1 div.sk-parallel-item::after {content: \"\";width: 100%;border-bottom: 1px solid gray;flex-grow: 1;}#sk-container-id-1 div.sk-label:hover label.sk-toggleable__label {background-color: #d4ebff;}#sk-container-id-1 div.sk-serial::before {content: \"\";position: absolute;border-left: 1px solid gray;box-sizing: border-box;top: 0;bottom: 0;left: 50%;z-index: 0;}#sk-container-id-1 div.sk-serial {display: flex;flex-direction: column;align-items: center;background-color: white;padding-right: 0.2em;padding-left: 0.2em;position: relative;}#sk-container-id-1 div.sk-item {position: relative;z-index: 1;}#sk-container-id-1 div.sk-parallel {display: flex;align-items: stretch;justify-content: center;background-color: white;position: relative;}#sk-container-id-1 div.sk-item::before, #sk-container-id-1 div.sk-parallel-item::before {content: \"\";position: absolute;border-left: 1px solid gray;box-sizing: border-box;top: 0;bottom: 0;left: 50%;z-index: -1;}#sk-container-id-1 div.sk-parallel-item {display: flex;flex-direction: column;z-index: 1;position: relative;background-color: white;}#sk-container-id-1 div.sk-parallel-item:first-child::after {align-self: flex-end;width: 50%;}#sk-container-id-1 div.sk-parallel-item:last-child::after {align-self: flex-start;width: 50%;}#sk-container-id-1 div.sk-parallel-item:only-child::after {width: 0;}#sk-container-id-1 div.sk-dashed-wrapped {border: 1px dashed gray;margin: 0 0.4em 0.5em 0.4em;box-sizing: border-box;padding-bottom: 0.4em;background-color: white;}#sk-container-id-1 div.sk-label label {font-family: monospace;font-weight: bold;display: inline-block;line-height: 1.2em;}#sk-container-id-1 div.sk-label-container {text-align: center;}#sk-container-id-1 div.sk-container {/* jupyter's `normalize.less` sets `[hidden] { display: none; }` but bootstrap.min.css set `[hidden] { display: none !important; }` so we also need the `!important` here to be able to override the default hidden behavior on the sphinx rendered scikit-learn.org. See: https://github.com/scikit-learn/scikit-learn/issues/21755 */display: inline-block !important;position: relative;}#sk-container-id-1 div.sk-text-repr-fallback {display: none;}</style><div id=\"sk-container-id-1\" class=\"sk-top-container\"><div class=\"sk-text-repr-fallback\"><pre>LogisticRegression()</pre><b>In a Jupyter environment, please rerun this cell to show the HTML representation or trust the notebook. <br />On GitHub, the HTML representation is unable to render, please try loading this page with nbviewer.org.</b></div><div class=\"sk-container\" hidden><div class=\"sk-item\"><div class=\"sk-estimator sk-toggleable\"><input class=\"sk-toggleable__control sk-hidden--visually\" id=\"sk-estimator-id-1\" type=\"checkbox\" checked><label for=\"sk-estimator-id-1\" class=\"sk-toggleable__label sk-toggleable__label-arrow\">LogisticRegression</label><div class=\"sk-toggleable__content\"><pre>LogisticRegression()</pre></div></div></div></div></div>"
            ]
          },
          "metadata": {},
          "execution_count": 14
        }
      ]
    },
    {
      "cell_type": "code",
      "source": [
        "predictions = logistic_model.predict(X_test)"
      ],
      "metadata": {
        "id": "t4dJfc1Gj1wX"
      },
      "execution_count": null,
      "outputs": []
    },
    {
      "cell_type": "markdown",
      "source": [
        "**See how model works on validation set**"
      ],
      "metadata": {
        "id": "O_t2_1NvLUl2"
      }
    },
    {
      "cell_type": "code",
      "source": [
        "# accuracy score\n",
        "from sklearn.metrics import accuracy_score\n",
        "test_acc = accuracy_score(y_test, predictions) * 100\n",
        "print(test_acc)"
      ],
      "metadata": {
        "colab": {
          "base_uri": "https://localhost:8080/"
        },
        "id": "Dq7AVfxeJM19",
        "outputId": "ec818b4d-d18d-4b8e-b473-a912e13df02f"
      },
      "execution_count": null,
      "outputs": [
        {
          "output_type": "stream",
          "name": "stdout",
          "text": [
            "79.82062780269058\n"
          ]
        }
      ]
    },
    {
      "cell_type": "code",
      "source": [
        "from sklearn.metrics import classification_report"
      ],
      "metadata": {
        "id": "_T_eTn9flu-3"
      },
      "execution_count": null,
      "outputs": []
    },
    {
      "cell_type": "code",
      "source": [
        "print(classification_report(y_test, predictions))"
      ],
      "metadata": {
        "colab": {
          "base_uri": "https://localhost:8080/"
        },
        "id": "VlX21m3Wl07B",
        "outputId": "7cb572c0-9f9c-4f51-bc26-c9b08cc0c40f"
      },
      "execution_count": null,
      "outputs": [
        {
          "output_type": "stream",
          "name": "stdout",
          "text": [
            "              precision    recall  f1-score   support\n",
            "\n",
            "         0.0       0.83      0.84      0.84       138\n",
            "         1.0       0.74      0.73      0.73        85\n",
            "\n",
            "    accuracy                           0.80       223\n",
            "   macro avg       0.79      0.78      0.79       223\n",
            "weighted avg       0.80      0.80      0.80       223\n",
            "\n"
          ]
        }
      ]
    },
    {
      "cell_type": "markdown",
      "source": [
        "**Apply model to test data**"
      ],
      "metadata": {
        "id": "8W0KftzdLixu"
      }
    },
    {
      "cell_type": "code",
      "source": [
        "test_file = '/content/drive/MyDrive/cs6220_assignment5/titanic.test.csv'\n",
        "test = pd.read_csv(test_file, delimiter = \",\")"
      ],
      "metadata": {
        "id": "xQ8diJOSLm0k"
      },
      "execution_count": null,
      "outputs": []
    },
    {
      "cell_type": "code",
      "source": [
        "age_avg = test['age'].mean()\n",
        "\n",
        "def age_tran(age):\n",
        "  if pd.isnull(age):\n",
        "    return age_avg\n",
        "  else:\n",
        "    return age\n",
        "\n",
        "\n",
        "test['age'] = test['age'].apply(age_tran)"
      ],
      "metadata": {
        "id": "CXxLFB_SL-kp"
      },
      "execution_count": null,
      "outputs": []
    },
    {
      "cell_type": "code",
      "source": [
        "fare_avg = test['fare'].mean()\n",
        "\n",
        "def fare_tran(fare):\n",
        "  if pd.isnull(fare):\n",
        "    return fare_avg\n",
        "  else:\n",
        "    return fare\n",
        "\n",
        "test['fare'] = test['fare'].apply(fare_tran)"
      ],
      "metadata": {
        "id": "STG6lWvdP4Wm"
      },
      "execution_count": null,
      "outputs": []
    },
    {
      "cell_type": "code",
      "source": [
        "sex = pd.get_dummies(test['sex'], drop_first=True)\n",
        "embarked = pd.get_dummies(test['embarked'], drop_first=True)"
      ],
      "metadata": {
        "id": "1fhQkoFSQAyq"
      },
      "execution_count": null,
      "outputs": []
    },
    {
      "cell_type": "code",
      "source": [
        "drop_col = ['sex','embarked', 'name', 'cabin', 'body', 'boat', 'home.dest', 'ticket']\n",
        "test_elements = pd.concat([test, sex, embarked], axis = 1)\n",
        "test_elements.drop(drop_col,axis = 1, inplace = True)\n"
      ],
      "metadata": {
        "id": "39yl-GA8QhfW"
      },
      "execution_count": null,
      "outputs": []
    },
    {
      "cell_type": "code",
      "source": [
        "test_mmc = MinMaxScaler()\n",
        "train = pd.DataFrame(test_mmc.fit_transform(test_elements), columns = ['pclass','survived','age','sibsp','parch','fare','male','Q','S'])"
      ],
      "metadata": {
        "id": "4uT-JZaaS5wk"
      },
      "execution_count": null,
      "outputs": []
    },
    {
      "cell_type": "code",
      "source": [
        "logistic_model = LogisticRegression()\n",
        "logistic_model.fit(X, y)"
      ],
      "metadata": {
        "colab": {
          "base_uri": "https://localhost:8080/",
          "height": 75
        },
        "id": "9d3uAFDgTb5R",
        "outputId": "e50c74de-0516-4e8b-be89-426960acf6b5"
      },
      "execution_count": null,
      "outputs": [
        {
          "output_type": "execute_result",
          "data": {
            "text/plain": [
              "LogisticRegression()"
            ],
            "text/html": [
              "<style>#sk-container-id-2 {color: black;background-color: white;}#sk-container-id-2 pre{padding: 0;}#sk-container-id-2 div.sk-toggleable {background-color: white;}#sk-container-id-2 label.sk-toggleable__label {cursor: pointer;display: block;width: 100%;margin-bottom: 0;padding: 0.3em;box-sizing: border-box;text-align: center;}#sk-container-id-2 label.sk-toggleable__label-arrow:before {content: \"▸\";float: left;margin-right: 0.25em;color: #696969;}#sk-container-id-2 label.sk-toggleable__label-arrow:hover:before {color: black;}#sk-container-id-2 div.sk-estimator:hover label.sk-toggleable__label-arrow:before {color: black;}#sk-container-id-2 div.sk-toggleable__content {max-height: 0;max-width: 0;overflow: hidden;text-align: left;background-color: #f0f8ff;}#sk-container-id-2 div.sk-toggleable__content pre {margin: 0.2em;color: black;border-radius: 0.25em;background-color: #f0f8ff;}#sk-container-id-2 input.sk-toggleable__control:checked~div.sk-toggleable__content {max-height: 200px;max-width: 100%;overflow: auto;}#sk-container-id-2 input.sk-toggleable__control:checked~label.sk-toggleable__label-arrow:before {content: \"▾\";}#sk-container-id-2 div.sk-estimator input.sk-toggleable__control:checked~label.sk-toggleable__label {background-color: #d4ebff;}#sk-container-id-2 div.sk-label input.sk-toggleable__control:checked~label.sk-toggleable__label {background-color: #d4ebff;}#sk-container-id-2 input.sk-hidden--visually {border: 0;clip: rect(1px 1px 1px 1px);clip: rect(1px, 1px, 1px, 1px);height: 1px;margin: -1px;overflow: hidden;padding: 0;position: absolute;width: 1px;}#sk-container-id-2 div.sk-estimator {font-family: monospace;background-color: #f0f8ff;border: 1px dotted black;border-radius: 0.25em;box-sizing: border-box;margin-bottom: 0.5em;}#sk-container-id-2 div.sk-estimator:hover {background-color: #d4ebff;}#sk-container-id-2 div.sk-parallel-item::after {content: \"\";width: 100%;border-bottom: 1px solid gray;flex-grow: 1;}#sk-container-id-2 div.sk-label:hover label.sk-toggleable__label {background-color: #d4ebff;}#sk-container-id-2 div.sk-serial::before {content: \"\";position: absolute;border-left: 1px solid gray;box-sizing: border-box;top: 0;bottom: 0;left: 50%;z-index: 0;}#sk-container-id-2 div.sk-serial {display: flex;flex-direction: column;align-items: center;background-color: white;padding-right: 0.2em;padding-left: 0.2em;position: relative;}#sk-container-id-2 div.sk-item {position: relative;z-index: 1;}#sk-container-id-2 div.sk-parallel {display: flex;align-items: stretch;justify-content: center;background-color: white;position: relative;}#sk-container-id-2 div.sk-item::before, #sk-container-id-2 div.sk-parallel-item::before {content: \"\";position: absolute;border-left: 1px solid gray;box-sizing: border-box;top: 0;bottom: 0;left: 50%;z-index: -1;}#sk-container-id-2 div.sk-parallel-item {display: flex;flex-direction: column;z-index: 1;position: relative;background-color: white;}#sk-container-id-2 div.sk-parallel-item:first-child::after {align-self: flex-end;width: 50%;}#sk-container-id-2 div.sk-parallel-item:last-child::after {align-self: flex-start;width: 50%;}#sk-container-id-2 div.sk-parallel-item:only-child::after {width: 0;}#sk-container-id-2 div.sk-dashed-wrapped {border: 1px dashed gray;margin: 0 0.4em 0.5em 0.4em;box-sizing: border-box;padding-bottom: 0.4em;background-color: white;}#sk-container-id-2 div.sk-label label {font-family: monospace;font-weight: bold;display: inline-block;line-height: 1.2em;}#sk-container-id-2 div.sk-label-container {text-align: center;}#sk-container-id-2 div.sk-container {/* jupyter's `normalize.less` sets `[hidden] { display: none; }` but bootstrap.min.css set `[hidden] { display: none !important; }` so we also need the `!important` here to be able to override the default hidden behavior on the sphinx rendered scikit-learn.org. See: https://github.com/scikit-learn/scikit-learn/issues/21755 */display: inline-block !important;position: relative;}#sk-container-id-2 div.sk-text-repr-fallback {display: none;}</style><div id=\"sk-container-id-2\" class=\"sk-top-container\"><div class=\"sk-text-repr-fallback\"><pre>LogisticRegression()</pre><b>In a Jupyter environment, please rerun this cell to show the HTML representation or trust the notebook. <br />On GitHub, the HTML representation is unable to render, please try loading this page with nbviewer.org.</b></div><div class=\"sk-container\" hidden><div class=\"sk-item\"><div class=\"sk-estimator sk-toggleable\"><input class=\"sk-toggleable__control sk-hidden--visually\" id=\"sk-estimator-id-2\" type=\"checkbox\" checked><label for=\"sk-estimator-id-2\" class=\"sk-toggleable__label sk-toggleable__label-arrow\">LogisticRegression</label><div class=\"sk-toggleable__content\"><pre>LogisticRegression()</pre></div></div></div></div></div>"
            ]
          },
          "metadata": {},
          "execution_count": 25
        }
      ]
    },
    {
      "cell_type": "code",
      "source": [
        "X_pre = test_elements.drop('survived', axis = 1)\n",
        "y_pre = test_elements['survived']"
      ],
      "metadata": {
        "id": "_XcjtOL_QyDH"
      },
      "execution_count": null,
      "outputs": []
    },
    {
      "cell_type": "code",
      "source": [
        "predictions_for_test = logistic_model.predict(X_pre)"
      ],
      "metadata": {
        "id": "m4QCK4EGQ-FL"
      },
      "execution_count": null,
      "outputs": []
    },
    {
      "cell_type": "code",
      "source": [
        "# accuracy score\n",
        "test_acc = accuracy_score(y_pre, predictions_for_test) * 100\n",
        "print(\"The accuracy is: \",test_acc, \"%\")"
      ],
      "metadata": {
        "colab": {
          "base_uri": "https://localhost:8080/"
        },
        "id": "FyB0i5PuRGFZ",
        "outputId": "a004b431-20e9-4b80-b12c-667bfa634df3"
      },
      "execution_count": null,
      "outputs": [
        {
          "output_type": "stream",
          "name": "stdout",
          "text": [
            "The accuracy is:  68.6602870813397 %\n"
          ]
        }
      ]
    },
    {
      "cell_type": "code",
      "source": [
        "import tensorflow as tf"
      ],
      "metadata": {
        "id": "t3teyaJzQCOJ"
      },
      "execution_count": null,
      "outputs": []
    },
    {
      "cell_type": "code",
      "source": [
        "from tensorflow.keras.layers import Dense\n",
        "from keras.models import Sequential "
      ],
      "metadata": {
        "id": "Hbs8cCNrQUCS"
      },
      "execution_count": null,
      "outputs": []
    },
    {
      "cell_type": "code",
      "source": [
        "neural_model = Sequential ([\n",
        "    Dense(units = 10, activation = 'relu'),\n",
        "    Dense(units = 5, activation = 'relu'),\n",
        "    Dense(units = 1, activation = 'linear'),\n",
        "])\n",
        "\n"
      ],
      "metadata": {
        "id": "c8WCz_VbQawG"
      },
      "execution_count": null,
      "outputs": []
    },
    {
      "cell_type": "code",
      "source": [
        "from keras.losses import BinaryCrossentropy"
      ],
      "metadata": {
        "id": "K64k0mctSC1J"
      },
      "execution_count": null,
      "outputs": []
    },
    {
      "cell_type": "code",
      "source": [
        "neural_model.compile(loss = BinaryCrossentropy(from_logits = True))"
      ],
      "metadata": {
        "id": "AN_rNKPUSLjL"
      },
      "execution_count": null,
      "outputs": []
    },
    {
      "cell_type": "code",
      "source": [
        "neural_model.fit(X, y, epochs = 100)"
      ],
      "metadata": {
        "colab": {
          "base_uri": "https://localhost:8080/"
        },
        "id": "iVyuMcYgRc3o",
        "outputId": "d6ed0d57-e1a4-424d-e156-3ec5a79837f1"
      },
      "execution_count": null,
      "outputs": [
        {
          "output_type": "stream",
          "name": "stdout",
          "text": [
            "Epoch 1/100\n",
            "28/28 [==============================] - 0s 7ms/step - loss: 0.7003\n",
            "Epoch 2/100\n",
            "28/28 [==============================] - 0s 7ms/step - loss: 0.6803\n",
            "Epoch 3/100\n",
            "28/28 [==============================] - 0s 5ms/step - loss: 0.6652\n",
            "Epoch 4/100\n",
            "28/28 [==============================] - 0s 6ms/step - loss: 0.6530\n",
            "Epoch 5/100\n",
            "28/28 [==============================] - 0s 4ms/step - loss: 0.6425\n",
            "Epoch 6/100\n",
            "28/28 [==============================] - 0s 4ms/step - loss: 0.6334\n",
            "Epoch 7/100\n",
            "28/28 [==============================] - 0s 8ms/step - loss: 0.6250\n",
            "Epoch 8/100\n",
            "28/28 [==============================] - 0s 9ms/step - loss: 0.6174\n",
            "Epoch 9/100\n",
            "28/28 [==============================] - 0s 7ms/step - loss: 0.6102\n",
            "Epoch 10/100\n",
            "28/28 [==============================] - 0s 6ms/step - loss: 0.6035\n",
            "Epoch 11/100\n",
            "28/28 [==============================] - 0s 7ms/step - loss: 0.5972\n",
            "Epoch 12/100\n",
            "28/28 [==============================] - 0s 14ms/step - loss: 0.5918\n",
            "Epoch 13/100\n",
            "28/28 [==============================] - 0s 15ms/step - loss: 0.5866\n",
            "Epoch 14/100\n",
            "28/28 [==============================] - 0s 6ms/step - loss: 0.5814\n",
            "Epoch 15/100\n",
            "28/28 [==============================] - 0s 3ms/step - loss: 0.5764\n",
            "Epoch 16/100\n",
            "28/28 [==============================] - 0s 3ms/step - loss: 0.5703\n",
            "Epoch 17/100\n",
            "28/28 [==============================] - 0s 4ms/step - loss: 0.5627\n",
            "Epoch 18/100\n",
            "28/28 [==============================] - 0s 2ms/step - loss: 0.5538\n",
            "Epoch 19/100\n",
            "28/28 [==============================] - 0s 3ms/step - loss: 0.5457\n",
            "Epoch 20/100\n",
            "28/28 [==============================] - 0s 3ms/step - loss: 0.5375\n",
            "Epoch 21/100\n",
            "28/28 [==============================] - 0s 3ms/step - loss: 0.5318\n",
            "Epoch 22/100\n",
            "28/28 [==============================] - 0s 3ms/step - loss: 0.5265\n",
            "Epoch 23/100\n",
            "28/28 [==============================] - 0s 3ms/step - loss: 0.5217\n",
            "Epoch 24/100\n",
            "28/28 [==============================] - 0s 3ms/step - loss: 0.5172\n",
            "Epoch 25/100\n",
            "28/28 [==============================] - 0s 4ms/step - loss: 0.5130\n",
            "Epoch 26/100\n",
            "28/28 [==============================] - 0s 3ms/step - loss: 0.5089\n",
            "Epoch 27/100\n",
            "28/28 [==============================] - 0s 3ms/step - loss: 0.5052\n",
            "Epoch 28/100\n",
            "28/28 [==============================] - 0s 3ms/step - loss: 0.5018\n",
            "Epoch 29/100\n",
            "28/28 [==============================] - 0s 3ms/step - loss: 0.4987\n",
            "Epoch 30/100\n",
            "28/28 [==============================] - 0s 4ms/step - loss: 0.4954\n",
            "Epoch 31/100\n",
            "28/28 [==============================] - 0s 4ms/step - loss: 0.4922\n",
            "Epoch 32/100\n",
            "28/28 [==============================] - 0s 6ms/step - loss: 0.4898\n",
            "Epoch 33/100\n",
            "28/28 [==============================] - 0s 3ms/step - loss: 0.4878\n",
            "Epoch 34/100\n",
            "28/28 [==============================] - 0s 2ms/step - loss: 0.4856\n",
            "Epoch 35/100\n",
            "28/28 [==============================] - 0s 2ms/step - loss: 0.4836\n",
            "Epoch 36/100\n",
            "28/28 [==============================] - 0s 3ms/step - loss: 0.4818\n",
            "Epoch 37/100\n",
            "28/28 [==============================] - 0s 3ms/step - loss: 0.4803\n",
            "Epoch 38/100\n",
            "28/28 [==============================] - 0s 3ms/step - loss: 0.4783\n",
            "Epoch 39/100\n",
            "28/28 [==============================] - 0s 3ms/step - loss: 0.4771\n",
            "Epoch 40/100\n",
            "28/28 [==============================] - 0s 3ms/step - loss: 0.4756\n",
            "Epoch 41/100\n",
            "28/28 [==============================] - 0s 3ms/step - loss: 0.4741\n",
            "Epoch 42/100\n",
            "28/28 [==============================] - 0s 8ms/step - loss: 0.4730\n",
            "Epoch 43/100\n",
            "28/28 [==============================] - 0s 6ms/step - loss: 0.4715\n",
            "Epoch 44/100\n",
            "28/28 [==============================] - 0s 3ms/step - loss: 0.4705\n",
            "Epoch 45/100\n",
            "28/28 [==============================] - 0s 3ms/step - loss: 0.4692\n",
            "Epoch 46/100\n",
            "28/28 [==============================] - 0s 3ms/step - loss: 0.4684\n",
            "Epoch 47/100\n",
            "28/28 [==============================] - 0s 3ms/step - loss: 0.4670\n",
            "Epoch 48/100\n",
            "28/28 [==============================] - 0s 7ms/step - loss: 0.4661\n",
            "Epoch 49/100\n",
            "28/28 [==============================] - 0s 6ms/step - loss: 0.4651\n",
            "Epoch 50/100\n",
            "28/28 [==============================] - 0s 3ms/step - loss: 0.4641\n",
            "Epoch 51/100\n",
            "28/28 [==============================] - 0s 7ms/step - loss: 0.4634\n",
            "Epoch 52/100\n",
            "28/28 [==============================] - 0s 3ms/step - loss: 0.4624\n",
            "Epoch 53/100\n",
            "28/28 [==============================] - 0s 8ms/step - loss: 0.4616\n",
            "Epoch 54/100\n",
            "28/28 [==============================] - 0s 4ms/step - loss: 0.4610\n",
            "Epoch 55/100\n",
            "28/28 [==============================] - 0s 3ms/step - loss: 0.4591\n",
            "Epoch 56/100\n",
            "28/28 [==============================] - 0s 2ms/step - loss: 0.4594\n",
            "Epoch 57/100\n",
            "28/28 [==============================] - 0s 5ms/step - loss: 0.4588\n",
            "Epoch 58/100\n",
            "28/28 [==============================] - 0s 2ms/step - loss: 0.4580\n",
            "Epoch 59/100\n",
            "28/28 [==============================] - 0s 3ms/step - loss: 0.4574\n",
            "Epoch 60/100\n",
            "28/28 [==============================] - 0s 6ms/step - loss: 0.4568\n",
            "Epoch 61/100\n",
            "28/28 [==============================] - 0s 3ms/step - loss: 0.4561\n",
            "Epoch 62/100\n",
            "28/28 [==============================] - 0s 4ms/step - loss: 0.4555\n",
            "Epoch 63/100\n",
            "28/28 [==============================] - 0s 3ms/step - loss: 0.4547\n",
            "Epoch 64/100\n",
            "28/28 [==============================] - 0s 3ms/step - loss: 0.4543\n",
            "Epoch 65/100\n",
            "28/28 [==============================] - 0s 2ms/step - loss: 0.4539\n",
            "Epoch 66/100\n",
            "28/28 [==============================] - 0s 3ms/step - loss: 0.4534\n",
            "Epoch 67/100\n",
            "28/28 [==============================] - 0s 3ms/step - loss: 0.4522\n",
            "Epoch 68/100\n",
            "28/28 [==============================] - 0s 3ms/step - loss: 0.4520\n",
            "Epoch 69/100\n",
            "28/28 [==============================] - 0s 2ms/step - loss: 0.4519\n",
            "Epoch 70/100\n",
            "28/28 [==============================] - 0s 3ms/step - loss: 0.4511\n",
            "Epoch 71/100\n",
            "28/28 [==============================] - 0s 4ms/step - loss: 0.4507\n",
            "Epoch 72/100\n",
            "28/28 [==============================] - 0s 3ms/step - loss: 0.4493\n",
            "Epoch 73/100\n",
            "28/28 [==============================] - 0s 3ms/step - loss: 0.4501\n",
            "Epoch 74/100\n",
            "28/28 [==============================] - 0s 4ms/step - loss: 0.4492\n",
            "Epoch 75/100\n",
            "28/28 [==============================] - 0s 3ms/step - loss: 0.4485\n",
            "Epoch 76/100\n",
            "28/28 [==============================] - 0s 3ms/step - loss: 0.4481\n",
            "Epoch 77/100\n",
            "28/28 [==============================] - 0s 3ms/step - loss: 0.4488\n",
            "Epoch 78/100\n",
            "28/28 [==============================] - 0s 3ms/step - loss: 0.4475\n",
            "Epoch 79/100\n",
            "28/28 [==============================] - 0s 3ms/step - loss: 0.4475\n",
            "Epoch 80/100\n",
            "28/28 [==============================] - 0s 6ms/step - loss: 0.4469\n",
            "Epoch 81/100\n",
            "28/28 [==============================] - 0s 3ms/step - loss: 0.4465\n",
            "Epoch 82/100\n",
            "28/28 [==============================] - 0s 7ms/step - loss: 0.4461\n",
            "Epoch 83/100\n",
            "28/28 [==============================] - 0s 5ms/step - loss: 0.4462\n",
            "Epoch 84/100\n",
            "28/28 [==============================] - 0s 3ms/step - loss: 0.4453\n",
            "Epoch 85/100\n",
            "28/28 [==============================] - 0s 4ms/step - loss: 0.4449\n",
            "Epoch 86/100\n",
            "28/28 [==============================] - 0s 3ms/step - loss: 0.4439\n",
            "Epoch 87/100\n",
            "28/28 [==============================] - 0s 6ms/step - loss: 0.4444\n",
            "Epoch 88/100\n",
            "28/28 [==============================] - 0s 3ms/step - loss: 0.4440\n",
            "Epoch 89/100\n",
            "28/28 [==============================] - 0s 4ms/step - loss: 0.4432\n",
            "Epoch 90/100\n",
            "28/28 [==============================] - 0s 5ms/step - loss: 0.4434\n",
            "Epoch 91/100\n",
            "28/28 [==============================] - 0s 4ms/step - loss: 0.4431\n",
            "Epoch 92/100\n",
            "28/28 [==============================] - 0s 6ms/step - loss: 0.4429\n",
            "Epoch 93/100\n",
            "28/28 [==============================] - 0s 5ms/step - loss: 0.4423\n",
            "Epoch 94/100\n",
            "28/28 [==============================] - 0s 5ms/step - loss: 0.4421\n",
            "Epoch 95/100\n",
            "28/28 [==============================] - 0s 4ms/step - loss: 0.4418\n",
            "Epoch 96/100\n",
            "28/28 [==============================] - 0s 3ms/step - loss: 0.4413\n",
            "Epoch 97/100\n",
            "28/28 [==============================] - 0s 4ms/step - loss: 0.4410\n",
            "Epoch 98/100\n",
            "28/28 [==============================] - 0s 4ms/step - loss: 0.4410\n",
            "Epoch 99/100\n",
            "28/28 [==============================] - 0s 3ms/step - loss: 0.4410\n",
            "Epoch 100/100\n",
            "28/28 [==============================] - 0s 5ms/step - loss: 0.4401\n"
          ]
        },
        {
          "output_type": "execute_result",
          "data": {
            "text/plain": [
              "<keras.callbacks.History at 0x7fa461fca460>"
            ]
          },
          "metadata": {},
          "execution_count": 38
        }
      ]
    },
    {
      "cell_type": "code",
      "source": [
        "nn_predict = neural_model.predict(X_pre)"
      ],
      "metadata": {
        "colab": {
          "base_uri": "https://localhost:8080/"
        },
        "id": "o317UojkSWyb",
        "outputId": "6832a9da-5378-4d2d-c30d-e049edac0cca"
      },
      "execution_count": null,
      "outputs": [
        {
          "output_type": "stream",
          "name": "stdout",
          "text": [
            "14/14 [==============================] - 0s 5ms/step\n"
          ]
        }
      ]
    },
    {
      "cell_type": "code",
      "source": [
        "m = tf.keras.metrics.BinaryAccuracy()\n",
        "m.update_state(y_pre, nn_predict)\n",
        "m.result().numpy()"
      ],
      "metadata": {
        "colab": {
          "base_uri": "https://localhost:8080/"
        },
        "id": "9D9FX_PwTLF2",
        "outputId": "e4ae07d7-579d-4202-dd2e-46ee1022094f"
      },
      "execution_count": null,
      "outputs": [
        {
          "output_type": "execute_result",
          "data": {
            "text/plain": [
              "0.34688994"
            ]
          },
          "metadata": {},
          "execution_count": 40
        }
      ]
    }
  ]
}